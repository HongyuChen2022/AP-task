{
 "cells": [
  {
   "cell_type": "code",
   "execution_count": 1,
   "metadata": {},
   "outputs": [],
   "source": [
    "import numpy as np\n",
    "import pandas as pd\n",
    "from copy import deepcopy\n",
    "import random\n",
    "from bertopic import BERTopic\n",
    "from umap import UMAP\n"
   ]
  },
  {
   "cell_type": "code",
   "execution_count": 2,
   "metadata": {},
   "outputs": [],
   "source": [
    "## Global settings\n",
    "import projpath\n",
    "import numpy as np\n",
    "import random\n",
    "import os\n",
    "\n",
    "#PROJPATH = \"/mount/arbeitsdaten14/projekte/sfb-732/d8/share//Demographics/\"bb\n",
    "PROJPATH = \"../../\"\n",
    "\n",
    "ORG_DATA = PROJPATH + \"/original-data\"\n",
    "INT_DATA = PROJPATH + \"/intermediate-data\"\n",
    "\n",
    "## This run settings\n",
    "## \n",
    "DATASET = \"pan13\" #can be replaced with pan13/blog\n",
    "LANG = \"en\" # can be replaced with \"es\"/ \"de\"/\"fr\"/\"it\"/ \"nl\"\n",
    "SEED = 272419\n",
    "CLASSIFIER=\"lr\"\n",
    "\n",
    "##\n",
    "# To make the run deterministic\n",
    "np.random.seed(SEED)\n",
    "random.seed(SEED)\n",
    "os.environ['PYTHONHASHSEED'] = str(SEED)"
   ]
  },
  {
   "cell_type": "code",
   "execution_count": 3,
   "metadata": {
    "scrolled": true
   },
   "outputs": [
    {
     "data": {
      "text/plain": [
       "DatasetDict({\n",
       "    train: Dataset({\n",
       "        features: ['label', 'age', 'id', 'text'],\n",
       "        num_rows: 75900\n",
       "    })\n",
       "    test: Dataset({\n",
       "        features: ['label', 'age', 'id', 'text'],\n",
       "        num_rows: 25359\n",
       "    })\n",
       "})"
      ]
     },
     "execution_count": 3,
     "metadata": {},
     "output_type": "execute_result"
    }
   ],
   "source": [
    "import torch\n",
    "import datasets\n",
    "\n",
    "train_file=\"%s/%s/%s/train/%s.train.clean.select.jsonlist\" % (INT_DATA, DATASET, LANG, LANG)\n",
    "test_file=\"%s/%s/%s/test/%s.test.clean.jsonlist\" % (INT_DATA, DATASET, LANG, LANG)\n",
    "\n",
    "dataset =  datasets.load_dataset('json', data_files={\"train\" : train_file,\n",
    "                                                     \"test\" : test_file })\n",
    "\n",
    "# concatenating texts from the same author\n",
    "for corp in dataset.keys():\n",
    "    dataset[corp] = dataset[corp].add_column(name=\"text\", column=[ \"\\n\".join(x) for x in dataset[corp][\"texts\"] ])\n",
    "\n",
    "# removing unnecesary\n",
    "dataset = dataset.remove_columns(\"texts\")\n",
    "\n",
    "# preparing labels\n",
    "dataset = dataset.rename_column(\"gender\", 'label')\n",
    "\n",
    "dataset"
   ]
  },
  {
   "cell_type": "code",
   "execution_count": 4,
   "metadata": {
    "scrolled": true
   },
   "outputs": [],
   "source": [
    "label2id =  dict([ (val, i) for (i, val) in enumerate(set(dataset[\"train\"][\"label\"])) ])\n",
    "id2label = dict([ (i, v) for (v, i) in label2id.items() ])\n",
    "\n",
    "def label_to_id(row):\n",
    "    row[\"label\"] = label2id[row[\"label\"]]\n",
    "    return row \n",
    "\n",
    "train_data = dataset[\"train\"]#.map(label_to_id)\n",
    "test_data = dataset[\"test\"]#.map(label_to_id)"
   ]
  },
  {
   "cell_type": "code",
   "execution_count": 5,
   "metadata": {},
   "outputs": [],
   "source": [
    "td = pd.DataFrame(train_data)"
   ]
  },
  {
   "cell_type": "code",
   "execution_count": 6,
   "metadata": {},
   "outputs": [
    {
     "data": {
      "text/html": [
       "<div>\n",
       "<style scoped>\n",
       "    .dataframe tbody tr th:only-of-type {\n",
       "        vertical-align: middle;\n",
       "    }\n",
       "\n",
       "    .dataframe tbody tr th {\n",
       "        vertical-align: top;\n",
       "    }\n",
       "\n",
       "    .dataframe thead th {\n",
       "        text-align: right;\n",
       "    }\n",
       "</style>\n",
       "<table border=\"1\" class=\"dataframe\">\n",
       "  <thead>\n",
       "    <tr style=\"text-align: right;\">\n",
       "      <th></th>\n",
       "      <th>label</th>\n",
       "      <th>age</th>\n",
       "      <th>id</th>\n",
       "      <th>text</th>\n",
       "    </tr>\n",
       "  </thead>\n",
       "  <tbody>\n",
       "    <tr>\n",
       "      <th>0</th>\n",
       "      <td>male</td>\n",
       "      <td>10s</td>\n",
       "      <td>b971b9f2ffb0b03f73db08b29af41bf5</td>\n",
       "      <td>Of course, you may be asking yourself this iss...</td>\n",
       "    </tr>\n",
       "    <tr>\n",
       "      <th>1</th>\n",
       "      <td>male</td>\n",
       "      <td>10s</td>\n",
       "      <td>55800a6d716981d91db59604e420cd59</td>\n",
       "      <td>Do you run a small business that involves the ...</td>\n",
       "    </tr>\n",
       "    <tr>\n",
       "      <th>2</th>\n",
       "      <td>male</td>\n",
       "      <td>10s</td>\n",
       "      <td>3ca677690dd114dcb53d62d6daeada4c</td>\n",
       "      <td>For the past several months news reports happe...</td>\n",
       "    </tr>\n",
       "    <tr>\n",
       "      <th>3</th>\n",
       "      <td>male</td>\n",
       "      <td>10s</td>\n",
       "      <td>8aaccf631fe2ffcf2df291fa4b0ee3f8</td>\n",
       "      <td>The ordinary human being overpays by at least ...</td>\n",
       "    </tr>\n",
       "    <tr>\n",
       "      <th>4</th>\n",
       "      <td>male</td>\n",
       "      <td>10s</td>\n",
       "      <td>626ee40d833706488fc2ea859857c718</td>\n",
       "      <td>It truly is undeniable that rest room is virtu...</td>\n",
       "    </tr>\n",
       "  </tbody>\n",
       "</table>\n",
       "</div>"
      ],
      "text/plain": [
       "  label  age                                id  \\\n",
       "0  male  10s  b971b9f2ffb0b03f73db08b29af41bf5   \n",
       "1  male  10s  55800a6d716981d91db59604e420cd59   \n",
       "2  male  10s  3ca677690dd114dcb53d62d6daeada4c   \n",
       "3  male  10s  8aaccf631fe2ffcf2df291fa4b0ee3f8   \n",
       "4  male  10s  626ee40d833706488fc2ea859857c718   \n",
       "\n",
       "                                                text  \n",
       "0  Of course, you may be asking yourself this iss...  \n",
       "1  Do you run a small business that involves the ...  \n",
       "2  For the past several months news reports happe...  \n",
       "3  The ordinary human being overpays by at least ...  \n",
       "4  It truly is undeniable that rest room is virtu...  "
      ]
     },
     "execution_count": 6,
     "metadata": {},
     "output_type": "execute_result"
    }
   ],
   "source": [
    "td.head()"
   ]
  },
  {
   "cell_type": "code",
   "execution_count": 7,
   "metadata": {},
   "outputs": [
    {
     "data": {
      "application/vnd.jupyter.widget-view+json": {
       "model_id": "4603a8e02b8a4116a5964c0a2a3aa396",
       "version_major": 2,
       "version_minor": 0
      },
      "text/plain": [
       "Batches:   0%|          | 0/2372 [00:00<?, ?it/s]"
      ]
     },
     "metadata": {},
     "output_type": "display_data"
    }
   ],
   "source": [
    "from sentence_transformers import SentenceTransformer\n",
    "\n",
    "# Pre-calculate embeddings\n",
    "embedding_model = SentenceTransformer(\"all-MiniLM-L6-v2\")\n",
    "\n",
    "embeddings = embedding_model.encode(td['text'].to_list(), show_progress_bar=True)\n"
   ]
  },
  {
   "cell_type": "code",
   "execution_count": 8,
   "metadata": {},
   "outputs": [],
   "source": [
    "from umap import UMAP\n",
    "\n",
    "umap_model = UMAP(n_neighbors=15, n_components=5, min_dist=0.0, metric='cosine', random_state=42)\n"
   ]
  },
  {
   "cell_type": "code",
   "execution_count": 9,
   "metadata": {},
   "outputs": [],
   "source": [
    "from hdbscan import HDBSCAN\n",
    "\n",
    "hdbscan_model = HDBSCAN(min_cluster_size=50, metric='euclidean', cluster_selection_method='eom', prediction_data=True)\n"
   ]
  },
  {
   "cell_type": "code",
   "execution_count": 10,
   "metadata": {},
   "outputs": [],
   "source": [
    "from sklearn.feature_extraction.text import CountVectorizer\n",
    "vectorizer_model = CountVectorizer(stop_words=\"english\", min_df=2, ngram_range=(1, 2))\n"
   ]
  },
  {
   "cell_type": "code",
   "execution_count": 11,
   "metadata": {},
   "outputs": [],
   "source": [
    "from bertopic.representation import KeyBERTInspired\n",
    "# KeyBERT\n",
    "keybert_model = KeyBERTInspired()\n",
    "\n",
    "representation_model = {\n",
    "    \"KeyBERT\": keybert_model\n",
    "}\n"
   ]
  },
  {
   "cell_type": "code",
   "execution_count": 12,
   "metadata": {
    "scrolled": true
   },
   "outputs": [],
   "source": [
    "from bertopic import BERTopic\n",
    "\n",
    "topic_model = BERTopic(\n",
    "  verbose=True,\n",
    "  # Pipeline models\n",
    "  embedding_model=embedding_model,\n",
    "  umap_model=umap_model,\n",
    "  hdbscan_model=hdbscan_model,\n",
    "  vectorizer_model=vectorizer_model,\n",
    "  representation_model=representation_model,\n",
    "  calculate_probabilities=True,\n",
    "  nr_topics = 100,\n",
    "  # Hyperparameters\n",
    "  top_n_words=10\n",
    ")"
   ]
  },
  {
   "cell_type": "code",
   "execution_count": 13,
   "metadata": {
    "scrolled": true
   },
   "outputs": [
    {
     "name": "stderr",
     "output_type": "stream",
     "text": [
      "2024-03-14 22:21:07,752 - BERTopic - Dimensionality - Fitting the dimensionality reduction algorithm\n",
      "2024-03-14 22:22:22,037 - BERTopic - Dimensionality - Completed ✓\n",
      "2024-03-14 22:22:22,043 - BERTopic - Cluster - Start clustering the reduced embeddings\n",
      "huggingface/tokenizers: The current process just got forked, after parallelism has already been used. Disabling parallelism to avoid deadlocks...\n",
      "To disable this warning, you can either:\n",
      "\t- Avoid using `tokenizers` before the fork if possible\n",
      "\t- Explicitly set the environment variable TOKENIZERS_PARALLELISM=(true | false)\n",
      "huggingface/tokenizers: The current process just got forked, after parallelism has already been used. Disabling parallelism to avoid deadlocks...\n",
      "To disable this warning, you can either:\n",
      "\t- Avoid using `tokenizers` before the fork if possible\n",
      "\t- Explicitly set the environment variable TOKENIZERS_PARALLELISM=(true | false)\n",
      "huggingface/tokenizers: The current process just got forked, after parallelism has already been used. Disabling parallelism to avoid deadlocks...\n",
      "To disable this warning, you can either:\n",
      "\t- Avoid using `tokenizers` before the fork if possible\n",
      "\t- Explicitly set the environment variable TOKENIZERS_PARALLELISM=(true | false)\n",
      "huggingface/tokenizers: The current process just got forked, after parallelism has already been used. Disabling parallelism to avoid deadlocks...\n",
      "To disable this warning, you can either:\n",
      "\t- Avoid using `tokenizers` before the fork if possible\n",
      "\t- Explicitly set the environment variable TOKENIZERS_PARALLELISM=(true | false)\n",
      "huggingface/tokenizers: The current process just got forked, after parallelism has already been used. Disabling parallelism to avoid deadlocks...\n",
      "To disable this warning, you can either:\n",
      "\t- Avoid using `tokenizers` before the fork if possible\n",
      "\t- Explicitly set the environment variable TOKENIZERS_PARALLELISM=(true | false)\n",
      "2024-03-14 22:35:03,368 - BERTopic - Cluster - Completed ✓\n",
      "2024-03-14 22:35:03,371 - BERTopic - Representation - Extracting topics from clusters using representation models.\n",
      "2024-03-14 22:38:30,164 - BERTopic - Representation - Completed ✓\n",
      "2024-03-14 22:38:30,313 - BERTopic - Topic reduction - Reducing number of topics\n",
      "2024-03-14 22:41:42,096 - BERTopic - Topic reduction - Reduced number of topics from 270 to 100\n"
     ]
    }
   ],
   "source": [
    "# Train model\n",
    "topics, probs = topic_model.fit_transform(td['text'].to_list(), embeddings)\n"
   ]
  },
  {
   "cell_type": "code",
   "execution_count": 15,
   "metadata": {},
   "outputs": [],
   "source": [
    "# Assuming topic_model.get_topic_info() returns a list of dictionaries\n",
    "topic_info = topic_model.get_topic_info()"
   ]
  },
  {
   "cell_type": "code",
   "execution_count": 16,
   "metadata": {
    "scrolled": true
   },
   "outputs": [
    {
     "data": {
      "text/html": [
       "<div>\n",
       "<style scoped>\n",
       "    .dataframe tbody tr th:only-of-type {\n",
       "        vertical-align: middle;\n",
       "    }\n",
       "\n",
       "    .dataframe tbody tr th {\n",
       "        vertical-align: top;\n",
       "    }\n",
       "\n",
       "    .dataframe thead th {\n",
       "        text-align: right;\n",
       "    }\n",
       "</style>\n",
       "<table border=\"1\" class=\"dataframe\">\n",
       "  <thead>\n",
       "    <tr style=\"text-align: right;\">\n",
       "      <th></th>\n",
       "      <th>Topic</th>\n",
       "      <th>Count</th>\n",
       "      <th>Name</th>\n",
       "      <th>Representation</th>\n",
       "      <th>KeyBERT</th>\n",
       "      <th>Representative_Docs</th>\n",
       "    </tr>\n",
       "  </thead>\n",
       "  <tbody>\n",
       "    <tr>\n",
       "      <th>0</th>\n",
       "      <td>-1</td>\n",
       "      <td>27682</td>\n",
       "      <td>-1_link_time_just_make</td>\n",
       "      <td>[link, time, just, make, like, people, need, u...</td>\n",
       "      <td>[marketing, business, products, company, servi...</td>\n",
       "      <td>[There is a correct way along with a incorrect...</td>\n",
       "    </tr>\n",
       "    <tr>\n",
       "      <th>1</th>\n",
       "      <td>0</td>\n",
       "      <td>4171</td>\n",
       "      <td>0_web_site_marketing_website</td>\n",
       "      <td>[web, site, marketing, website, business, inte...</td>\n",
       "      <td>[internet marketing, seo, web hosting, adverti...</td>\n",
       "      <td>[As an alternative to outsourcing your online ...</td>\n",
       "    </tr>\n",
       "    <tr>\n",
       "      <th>2</th>\n",
       "      <td>1</td>\n",
       "      <td>2780</td>\n",
       "      <td>1_hi_im_friends_love</td>\n",
       "      <td>[hi, im, friends, love, chat, hello, com, pan,...</td>\n",
       "      <td>[hi, hello, hey, dear, wanna chat, meet, chat,...</td>\n",
       "      <td>[HI WHERE R U ALL????? ;, hi there everyone, h...</td>\n",
       "    </tr>\n",
       "    <tr>\n",
       "      <th>3</th>\n",
       "      <td>2</td>\n",
       "      <td>2543</td>\n",
       "      <td>2_shoes_handbags_bags_boots</td>\n",
       "      <td>[shoes, handbags, bags, boots, vuitton, nike, ...</td>\n",
       "      <td>[louis vuitton, handbags, handbag, purses, pur...</td>\n",
       "      <td>[Louis Vuitton handbags are the most used bran...</td>\n",
       "    </tr>\n",
       "    <tr>\n",
       "      <th>4</th>\n",
       "      <td>3</td>\n",
       "      <td>2112</td>\n",
       "      <td>3_love_god_life_jesus</td>\n",
       "      <td>[love, god, life, jesus, heart, christ, lord, ...</td>\n",
       "      <td>[salvation, faith, bible, prayer, spirit, sin,...</td>\n",
       "      <td>[Contemplative Spirituality: Dancing With Demo...</td>\n",
       "    </tr>\n",
       "    <tr>\n",
       "      <th>...</th>\n",
       "      <td>...</td>\n",
       "      <td>...</td>\n",
       "      <td>...</td>\n",
       "      <td>...</td>\n",
       "      <td>...</td>\n",
       "      <td>...</td>\n",
       "    </tr>\n",
       "    <tr>\n",
       "      <th>95</th>\n",
       "      <td>94</td>\n",
       "      <td>56</td>\n",
       "      <td>94_bird_parrot_birds_parrots</td>\n",
       "      <td>[bird, parrot, birds, parrots, seeds, feeders,...</td>\n",
       "      <td>[parrot diet, bird food, feeding birds, bird s...</td>\n",
       "      <td>[This actually is so taking into consideration...</td>\n",
       "    </tr>\n",
       "    <tr>\n",
       "      <th>96</th>\n",
       "      <td>95</td>\n",
       "      <td>55</td>\n",
       "      <td>95_granite_countertops_marble_countertop</td>\n",
       "      <td>[granite, countertops, marble, countertop, sto...</td>\n",
       "      <td>[granite countertops, countertops granite, gra...</td>\n",
       "      <td>[To guarantee that your granite counter tops a...</td>\n",
       "    </tr>\n",
       "    <tr>\n",
       "      <th>97</th>\n",
       "      <td>96</td>\n",
       "      <td>55</td>\n",
       "      <td>96_que_en_la_por</td>\n",
       "      <td>[que, en, la, por, el, es, para, se, estoy, tu]</td>\n",
       "      <td>[cuando, en el, que se, como, es, yahoo es, en...</td>\n",
       "      <td>[clave zero está durante Marketing ni en Perso...</td>\n",
       "    </tr>\n",
       "    <tr>\n",
       "      <th>98</th>\n",
       "      <td>97</td>\n",
       "      <td>54</td>\n",
       "      <td>97_funeral_memorial_cremation_casket</td>\n",
       "      <td>[funeral, memorial, cremation, casket, decease...</td>\n",
       "      <td>[funeral plans, funeral plan, funeral service,...</td>\n",
       "      <td>[Funeral plans are a great way to prepare for ...</td>\n",
       "    </tr>\n",
       "    <tr>\n",
       "      <th>99</th>\n",
       "      <td>98</td>\n",
       "      <td>52</td>\n",
       "      <td>98_dishwasher_washer_installation_dryer</td>\n",
       "      <td>[dishwasher, washer, installation, dryer, sink...</td>\n",
       "      <td>[dishwashing machine, dishwasher, dish washer,...</td>\n",
       "      <td>[As a result of our own more advanced devices,...</td>\n",
       "    </tr>\n",
       "  </tbody>\n",
       "</table>\n",
       "<p>100 rows × 6 columns</p>\n",
       "</div>"
      ],
      "text/plain": [
       "    Topic  Count                                      Name  \\\n",
       "0      -1  27682                    -1_link_time_just_make   \n",
       "1       0   4171              0_web_site_marketing_website   \n",
       "2       1   2780                      1_hi_im_friends_love   \n",
       "3       2   2543               2_shoes_handbags_bags_boots   \n",
       "4       3   2112                     3_love_god_life_jesus   \n",
       "..    ...    ...                                       ...   \n",
       "95     94     56              94_bird_parrot_birds_parrots   \n",
       "96     95     55  95_granite_countertops_marble_countertop   \n",
       "97     96     55                          96_que_en_la_por   \n",
       "98     97     54      97_funeral_memorial_cremation_casket   \n",
       "99     98     52   98_dishwasher_washer_installation_dryer   \n",
       "\n",
       "                                       Representation  \\\n",
       "0   [link, time, just, make, like, people, need, u...   \n",
       "1   [web, site, marketing, website, business, inte...   \n",
       "2   [hi, im, friends, love, chat, hello, com, pan,...   \n",
       "3   [shoes, handbags, bags, boots, vuitton, nike, ...   \n",
       "4   [love, god, life, jesus, heart, christ, lord, ...   \n",
       "..                                                ...   \n",
       "95  [bird, parrot, birds, parrots, seeds, feeders,...   \n",
       "96  [granite, countertops, marble, countertop, sto...   \n",
       "97    [que, en, la, por, el, es, para, se, estoy, tu]   \n",
       "98  [funeral, memorial, cremation, casket, decease...   \n",
       "99  [dishwasher, washer, installation, dryer, sink...   \n",
       "\n",
       "                                              KeyBERT  \\\n",
       "0   [marketing, business, products, company, servi...   \n",
       "1   [internet marketing, seo, web hosting, adverti...   \n",
       "2   [hi, hello, hey, dear, wanna chat, meet, chat,...   \n",
       "3   [louis vuitton, handbags, handbag, purses, pur...   \n",
       "4   [salvation, faith, bible, prayer, spirit, sin,...   \n",
       "..                                                ...   \n",
       "95  [parrot diet, bird food, feeding birds, bird s...   \n",
       "96  [granite countertops, countertops granite, gra...   \n",
       "97  [cuando, en el, que se, como, es, yahoo es, en...   \n",
       "98  [funeral plans, funeral plan, funeral service,...   \n",
       "99  [dishwashing machine, dishwasher, dish washer,...   \n",
       "\n",
       "                                  Representative_Docs  \n",
       "0   [There is a correct way along with a incorrect...  \n",
       "1   [As an alternative to outsourcing your online ...  \n",
       "2   [HI WHERE R U ALL????? ;, hi there everyone, h...  \n",
       "3   [Louis Vuitton handbags are the most used bran...  \n",
       "4   [Contemplative Spirituality: Dancing With Demo...  \n",
       "..                                                ...  \n",
       "95  [This actually is so taking into consideration...  \n",
       "96  [To guarantee that your granite counter tops a...  \n",
       "97  [clave zero está durante Marketing ni en Perso...  \n",
       "98  [Funeral plans are a great way to prepare for ...  \n",
       "99  [As a result of our own more advanced devices,...  \n",
       "\n",
       "[100 rows x 6 columns]"
      ]
     },
     "execution_count": 16,
     "metadata": {},
     "output_type": "execute_result"
    }
   ],
   "source": [
    "topic_info"
   ]
  },
  {
   "cell_type": "code",
   "execution_count": 23,
   "metadata": {},
   "outputs": [],
   "source": [
    "topics = pd.DataFrame(topics)"
   ]
  },
  {
   "cell_type": "code",
   "execution_count": 24,
   "metadata": {},
   "outputs": [],
   "source": [
    "topics.columns = [\"topics\"]"
   ]
  },
  {
   "cell_type": "code",
   "execution_count": 25,
   "metadata": {},
   "outputs": [],
   "source": [
    "topics['id'] = td['id']"
   ]
  },
  {
   "cell_type": "code",
   "execution_count": 216,
   "metadata": {},
   "outputs": [],
   "source": [
    "probs_df=pd.DataFrame(probs)\n",
    "probs_df['main percentage'] = pd.DataFrame({'max': probs_df.max(axis=1)})"
   ]
  },
  {
   "cell_type": "code",
   "execution_count": 19,
   "metadata": {
    "scrolled": true
   },
   "outputs": [],
   "source": [
    "# Assuming topic_model.get_topic_info() returns a list of dictionaries\n",
    "topic_info = topic_model.get_topic_info()\n",
    "\n",
    "# Convert the list of dictionaries to a DataFrame\n",
    "df_topic = pd.DataFrame(topic_info)\n"
   ]
  },
  {
   "cell_type": "code",
   "execution_count": 29,
   "metadata": {},
   "outputs": [],
   "source": [
    "df_topic.to_csv('topic_en_age_balance.csv')"
   ]
  },
  {
   "cell_type": "code",
   "execution_count": 14,
   "metadata": {},
   "outputs": [
    {
     "name": "stderr",
     "output_type": "stream",
     "text": [
      "2it [01:17, 38.96s/it]\n"
     ]
    }
   ],
   "source": [
    "topics_per_class = topic_model.topics_per_class(td['text'].to_list(), classes=td['label'].to_list())"
   ]
  },
  {
   "cell_type": "code",
   "execution_count": 14,
   "metadata": {},
   "outputs": [
    {
     "name": "stderr",
     "output_type": "stream",
     "text": [
      "3it [01:20, 26.91s/it]\n"
     ]
    }
   ],
   "source": [
    "topics_per_class = topic_model.topics_per_class(td['text'].to_list(), classes=td['age'].to_list())"
   ]
  },
  {
   "cell_type": "code",
   "execution_count": 16,
   "metadata": {},
   "outputs": [],
   "source": [
    "td['gender_age'] = td['label'] + '_' + td['age']"
   ]
  },
  {
   "cell_type": "code",
   "execution_count": 18,
   "metadata": {},
   "outputs": [
    {
     "name": "stderr",
     "output_type": "stream",
     "text": [
      "6it [01:32, 15.48s/it]\n"
     ]
    }
   ],
   "source": [
    "topics_per_class = topic_model.topics_per_class(td['text'].to_list(), classes=td['gender_age'].to_list())"
   ]
  },
  {
   "cell_type": "code",
   "execution_count": 16,
   "metadata": {},
   "outputs": [],
   "source": [
    "\n",
    "title = f\"Top Frequent Topics by Gender (PAN13-EN)\"\n",
    "tv = topic_model.visualize_topics_per_class(topics_per_class, title=title)\n",
    "tv.write_html(\"en_topic_per_class.html\")"
   ]
  },
  {
   "cell_type": "code",
   "execution_count": 15,
   "metadata": {},
   "outputs": [],
   "source": [
    "\n",
    "title = f\"Top Frequent Topics by Age (PAN13-EN)\"\n",
    "tv = topic_model.visualize_topics_per_class(topics_per_class, title=title)\n",
    "tv.write_html(\"age-en_topic_per_class.html\")"
   ]
  },
  {
   "cell_type": "code",
   "execution_count": 19,
   "metadata": {},
   "outputs": [],
   "source": [
    "\n",
    "title = f\"Top Frequent Topics by Gender-Age (PAN13-EN)\"\n",
    "tv = topic_model.visualize_topics_per_class(topics_per_class, title=title)\n",
    "tv.write_html(\"g_a-en_topic_per_class.html\")"
   ]
  },
  {
   "cell_type": "code",
   "execution_count": null,
   "metadata": {},
   "outputs": [],
   "source": []
  }
 ],
 "metadata": {
  "kernelspec": {
   "display_name": "Python 3 (ipykernel)",
   "language": "python",
   "name": "python3"
  },
  "language_info": {
   "codemirror_mode": {
    "name": "ipython",
    "version": 3
   },
   "file_extension": ".py",
   "mimetype": "text/x-python",
   "name": "python",
   "nbconvert_exporter": "python",
   "pygments_lexer": "ipython3",
   "version": "3.12.3"
  }
 },
 "nbformat": 4,
 "nbformat_minor": 4
}
